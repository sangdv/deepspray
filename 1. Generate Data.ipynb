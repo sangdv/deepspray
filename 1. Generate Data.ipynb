{
 "cells": [
  {
   "cell_type": "code",
   "execution_count": 7,
   "metadata": {},
   "outputs": [],
   "source": [
    "from PIL import Image \n",
    "import glob, os, cv2\n",
    "import numpy as np\n",
    "import random, glob\n",
    "\n",
    "if not os.path.exists(\"./train\"): os.makedirs(\"./train\")\n",
    "if not os.path.exists(\"./train/images\"): os.makedirs(\"./train/images\")\n",
    "if not os.path.exists(\"./train/labels\"): os.makedirs(\"./train/labels\")\n",
    "if not os.path.exists(\"./valid\"): os.makedirs(\"./valid\")\n",
    "if not os.path.exists(\"./valid/images\"): os.makedirs(\"./valid/images\")\n",
    "if not os.path.exists(\"./valid/labels\"): os.makedirs(\"./valid/labels\")\n",
    "if not os.path.exists(\"./test\"): os.makedirs(\"./test\")\n",
    "if not os.path.exists(\"./test/images\"): os.makedirs(\"./test/images\")\n",
    "\n",
    "PREFIX = \"f_\"\n",
    "# Place original labeled img\n",
    "SOURCE = \"./Scaled-Yolov4/ori_img/\""
   ]
  },
  {
   "cell_type": "code",
   "execution_count": 8,
   "metadata": {},
   "outputs": [
    {
     "name": "stdout",
     "output_type": "stream",
     "text": [
      "Create Traningset Done!\n"
     ]
    }
   ],
   "source": [
    "for f in glob.glob('./train/labels.cache'): os.remove(f)\n",
    "for f in glob.glob('./train/images/*'): os.remove(f)\n",
    "for f in glob.glob('./train/labels/*'): os.remove(f)\n",
    "\n",
    "count_img = 0\n",
    "\n",
    "for img_file in os.listdir(SOURCE + \"images\"):\n",
    "    if(img_file[:2]!= PREFIX): continue\n",
    "    img = np.array(Image.open(SOURCE + \"images/\" + img_file))\n",
    "    H, W, C = img.shape\n",
    "    \n",
    "    for j in range(100*count_img, 100*(count_img + 1)):\n",
    "        output_img = 255 * np.ones((H, W, 3), np.uint8)\n",
    "        new_label_txt = open('./train/labels/'+str(j)+'.txt', \"w\")\n",
    "        label_txt = open(SOURCE + \"labels/\"+ img_file[:-4] + \".txt\")\n",
    "        for line in label_txt:\n",
    "            line = line.split()\n",
    "            x, y, w, h = float(line[1]), float(line[2]), int(float(line[3])*W), int(float(line[4])*H)\n",
    "            x1 = int(x*W - w/2)\n",
    "            y1 = int(y*H - h/2)\n",
    "            x2 = x1 + w\n",
    "            y2 = y1 + h\n",
    "\n",
    "            frequence = random.randint(2, 6)\n",
    "            for i in range(frequence):\n",
    "                # Toạ độ mới\n",
    "                empty = 0\n",
    "                count_failed = 0\n",
    "                while empty == 0: \n",
    "                    count_failed += 1\n",
    "                    if(count_failed > 100): break\n",
    "                    x1_, y1_ = random.randint(0, W - w), random.randint(0, H - h)\n",
    "                    x2_ = x1_ + w\n",
    "                    y2_ = y1_ + h\n",
    "                    if (len(np.unique(output_img[y1_:y2_, x1_:x2_, :])) == 1): empty = 1\n",
    "                if(empty == 1):\n",
    "                    output_img[y1_:y2_, x1_:x2_, :] = img[y1:y2, x1:x2, :]\n",
    "                    new_label_txt.write(line[0]+\" \" + str((x1_+x2_)/2/W) + \" \" + str((y1_+y2_)/2/H) + \" \" + str(w/W) + \" \" + str(h/H) + \"\\n\")\n",
    "                    \n",
    "        Image.fromarray(output_img).save('./train/images/'+str(j)+'.png')   \n",
    "        new_label_txt.close()\n",
    "    \n",
    "    count_img +=1\n",
    "print(\"Create Traningset Done!\")"
   ]
  },
  {
   "cell_type": "code",
   "execution_count": 9,
   "metadata": {},
   "outputs": [
    {
     "name": "stdout",
     "output_type": "stream",
     "text": [
      "Create ValidationSet Done!\n"
     ]
    }
   ],
   "source": [
    "for f in glob.glob('./valid/labels.cache'): os.remove(f)\n",
    "for f in glob.glob('./valid/images/*'): os.remove(f)\n",
    "for f in glob.glob('./valid/labels/*'): os.remove(f)\n",
    "    \n",
    "count_img = 0\n",
    "\n",
    "for img_file in os.listdir(SOURCE + \"images\"):\n",
    "    if(img_file[:2]!= PREFIX): continue\n",
    "    img = np.array(Image.open(SOURCE + \"images/\" + img_file))\n",
    "    H, W, C = img.shape\n",
    "    \n",
    "    for j in range(20*count_img, 20*(count_img + 1)):\n",
    "        output_img = 255 * np.ones((H, W, 3), np.uint8)\n",
    "        new_label_txt = open('./valid/labels/'+str(j)+'.txt', \"w\")\n",
    "        label_txt = open(SOURCE + \"labels/\"+ img_file[:-4] + \".txt\")\n",
    "        \n",
    "        for line in label_txt:\n",
    "            line = line.split()\n",
    "            x, y, w, h = float(line[1]), float(line[2]), int(float(line[3])*W), int(float(line[4])*H)\n",
    "            x1 = int(x*W - w/2)\n",
    "            y1 = int(y*H - h/2)\n",
    "            x2 = x1 + w\n",
    "            y2 = y1 + h\n",
    "\n",
    "            frequence = random.randint(2, 6)\n",
    "            for i in range(frequence):\n",
    "                # Toạ độ mới\n",
    "                empty = 0\n",
    "                count_failed = 0\n",
    "                while empty == 0: \n",
    "                    count_failed += 1\n",
    "                    if(count_failed > 100): break\n",
    "                    x1_, y1_ = random.randint(0, W - w), random.randint(0, H - h)\n",
    "                    x2_ = x1_ + w\n",
    "                    y2_ = y1_ + h\n",
    "                    if (len(np.unique(output_img[y1_:y2_, x1_:x2_, :])) == 1): empty = 1\n",
    "                if(empty == 1):\n",
    "                    output_img[y1_:y2_, x1_:x2_, :] = img[y1:y2, x1:x2, :]\n",
    "                    if j%20 == 0: new_label_txt.write(line[0]+\" \" + str((x1_+x2_)/2/W) + \" \" + str((y1_+y2_)/2/H) + \" \" + str(w/W) + \" \" + str(h/H) + \"\\n\")\n",
    "                    \n",
    "        Image.fromarray(output_img).save('./valid/images/'+str(j)+'.png')   \n",
    "        new_label_txt.close()\n",
    "    \n",
    "    count_img +=1\n",
    "print(\"Create ValidationSet Done!\")"
   ]
  },
  {
   "cell_type": "code",
   "execution_count": null,
   "metadata": {},
   "outputs": [],
   "source": []
  }
 ],
 "metadata": {
  "kernelspec": {
   "display_name": "Python 3",
   "language": "python",
   "name": "python3"
  },
  "language_info": {
   "codemirror_mode": {
    "name": "ipython",
    "version": 3
   },
   "file_extension": ".py",
   "mimetype": "text/x-python",
   "name": "python",
   "nbconvert_exporter": "python",
   "pygments_lexer": "ipython3",
   "version": "3.6.9"
  }
 },
 "nbformat": 4,
 "nbformat_minor": 4
}
