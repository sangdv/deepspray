{
 "cells": [
  {
   "cell_type": "markdown",
   "metadata": {},
   "source": [
    "## Inference Scaled-YoloV4 with DeepSpray data\n",
    "#### Result will be placed in Scaled-Yolov4/inference/output folder"
   ]
  },
  {
   "cell_type": "markdown",
   "metadata": {},
   "source": [
    "##### Detect from best checkpoint"
   ]
  },
  {
   "cell_type": "code",
   "execution_count": 1,
   "metadata": {},
   "outputs": [
    {
     "name": "stdout",
     "output_type": "stream",
     "text": [
      "/root/AFS/deepspray/Scaled-Yolov4\n",
      "Namespace(agnostic_nms=False, augment=False, classes=None, conf_thres=0.1, device='', img_size=1024, iou_thres=0.5, output='inference/output', save_txt=False, source='../test/images', update=False, view_img=False, weights=['./runs/exp0_yolov4-csp-results/weights/best.pt'])\n",
      "Using CUDA device0 _CudaDeviceProperties(name='Tesla V100-SXM2-32GB', total_memory=32480MB)\n",
      "           device1 _CudaDeviceProperties(name='Tesla V100-SXM2-32GB', total_memory=32480MB)\n",
      "\n",
      "Fusing layers... Model Summary: 235 layers, 5.24921e+07 parameters, 5.04494e+07 gradients\n",
      "image 1/10 /root/AFS/deepspray/test/images/f_00774.png: 512x1024 Done. (0.020s)\n",
      "image 2/10 /root/AFS/deepspray/test/images/f_01275.png: 512x1024 Done. (0.018s)\n",
      "image 3/10 /root/AFS/deepspray/test/images/f_01293.png: 768x1024 Done. (0.019s)\n",
      "image 4/10 /root/AFS/deepspray/test/images/f_01316.png: 768x1024 Done. (0.018s)\n",
      "image 5/10 /root/AFS/deepspray/test/images/f_01329.png: 512x1024 Done. (0.017s)\n",
      "image 6/10 /root/AFS/deepspray/test/images/f_01340.png: 512x1024 Done. (0.017s)\n",
      "image 7/10 /root/AFS/deepspray/test/images/f_01508.png: 512x1024 Done. (0.017s)\n",
      "image 8/10 /root/AFS/deepspray/test/images/f_01522.png: 768x1024 Done. (0.017s)\n",
      "image 9/10 /root/AFS/deepspray/test/images/f_01549.png: 768x1024 Done. (0.017s)\n",
      "image 10/10 /root/AFS/deepspray/test/images/f_01572.png: 768x1024 Done. (0.017s)\n",
      "Results saved to inference/output\n",
      "Done. (0.721s)\n"
     ]
    }
   ],
   "source": [
    "%cd Scaled-Yolov4\n",
    "!python detect.py --weights ./runs/exp0_yolov4-csp-results/weights/best.pt --img 1024 --conf 0.1 --source ../test/images"
   ]
  },
  {
   "cell_type": "markdown",
   "metadata": {},
   "source": [
    "##### Detect from last checkpoint when trainning"
   ]
  },
  {
   "cell_type": "code",
   "execution_count": null,
   "metadata": {},
   "outputs": [],
   "source": [
    "%cd Scaled-Yolov4\n",
    "!cp ./runs/exp31_yolov4-csp-results/weights/last.pt ./runs/exp31_yolov4-csp-results/weights/last2.pt \n",
    "!python detect.py --weights ./runs/exp0_yolov4-csp-results/weights/last2.pt --img 1920 --conf 0.1 --source ../test/images"
   ]
  }
 ],
 "metadata": {
  "kernelspec": {
   "display_name": "Python 3",
   "language": "python",
   "name": "python3"
  },
  "language_info": {
   "codemirror_mode": {
    "name": "ipython",
    "version": 3
   },
   "file_extension": ".py",
   "mimetype": "text/x-python",
   "name": "python",
   "nbconvert_exporter": "python",
   "pygments_lexer": "ipython3",
   "version": "3.6.9"
  }
 },
 "nbformat": 4,
 "nbformat_minor": 4
}
