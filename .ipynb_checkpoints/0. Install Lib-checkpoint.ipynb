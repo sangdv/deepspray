{
 "cells": [
  {
   "cell_type": "markdown",
   "metadata": {},
   "source": [
    "## Requirement"
   ]
  },
  {
   "cell_type": "markdown",
   "metadata": {},
   "source": [
    "1. Cuda version: 10.1\n",
    "2. Cudnn 7.6.5"
   ]
  },
  {
   "cell_type": "markdown",
   "metadata": {},
   "source": [
    "### Install Pytorch & Lib"
   ]
  },
  {
   "cell_type": "code",
   "execution_count": 2,
   "metadata": {},
   "outputs": [
    {
     "name": "stdout",
     "output_type": "stream",
     "text": [
      "Looking in indexes: https://pypi.python.org/simple\n",
      "Looking in links: https://download.pytorch.org/whl/torch_stable.html\n",
      "Requirement already satisfied: torch==1.7.1+cu101 in /usr/local/lib/python3.6/dist-packages (1.7.1+cu101)\n",
      "Requirement already satisfied: torchvision==0.8.2+cu101 in /usr/local/lib/python3.6/dist-packages (0.8.2+cu101)\n",
      "Requirement already satisfied: torchaudio===0.7.2 in /usr/local/lib/python3.6/dist-packages (0.7.2)\n",
      "Requirement already satisfied: numpy in /usr/local/lib/python3.6/dist-packages (from torch==1.7.1+cu101) (1.16.4)\n",
      "Requirement already satisfied: typing-extensions in /usr/local/lib/python3.6/dist-packages (from torch==1.7.1+cu101) (3.7.4.3)\n",
      "Requirement already satisfied: dataclasses in /usr/local/lib/python3.6/dist-packages (from torch==1.7.1+cu101) (0.8)\n",
      "Requirement already satisfied: pillow>=4.1.1 in /usr/local/lib/python3.6/dist-packages (from torchvision==0.8.2+cu101) (7.2.0)\n"
     ]
    }
   ],
   "source": [
    "# !pip install torch==1.7.1 torchvision==0.8.2\n",
    "!pip install torch==1.7.1+cu101 torchvision==0.8.2+cu101 torchaudio===0.7.2 -f https://download.pytorch.org/whl/torch_stable.html"
   ]
  },
  {
   "cell_type": "code",
   "execution_count": 3,
   "metadata": {},
   "outputs": [
    {
     "name": "stdout",
     "output_type": "stream",
     "text": [
      "Looking in indexes: https://pypi.python.org/simple\n",
      "Requirement already satisfied: PyYAML in /usr/local/lib/python3.6/dist-packages (5.4.1)\n"
     ]
    }
   ],
   "source": [
    "!pip install -U PyYAML\n",
    "!pip install opencv-python\n",
    "!pip install Pillow"
   ]
  },
  {
   "cell_type": "markdown",
   "metadata": {},
   "source": [
    "### Install mish activation funciton for cuda"
   ]
  },
  {
   "cell_type": "code",
   "execution_count": 4,
   "metadata": {},
   "outputs": [
    {
     "name": "stdout",
     "output_type": "stream",
     "text": [
      "/root/AFS/deepspray/mish-cuda\n",
      "/usr/lib/python3.6/distutils/extension.py:131: UserWarning: Unknown Extension options: 'headers'\n",
      "  warnings.warn(msg)\n",
      "running build\n",
      "running build_py\n",
      "running egg_info\n",
      "writing src/mish_cuda.egg-info/PKG-INFO\n",
      "writing dependency_links to src/mish_cuda.egg-info/dependency_links.txt\n",
      "writing requirements to src/mish_cuda.egg-info/requires.txt\n",
      "writing top-level names to src/mish_cuda.egg-info/top_level.txt\n",
      "/usr/local/lib/python3.6/dist-packages/torch/utils/cpp_extension.py:352: UserWarning: Attempted to use ninja as the BuildExtension backend but we could not find ninja.. Falling back to using the slow distutils backend.\n",
      "  warnings.warn(msg.format('we could not find ninja.'))\n",
      "reading manifest file 'src/mish_cuda.egg-info/SOURCES.txt'\n",
      "writing manifest file 'src/mish_cuda.egg-info/SOURCES.txt'\n",
      "running build_ext\n",
      "running install\n",
      "running bdist_egg\n",
      "installing library code to build/bdist.linux-x86_64/egg\n",
      "running install_lib\n",
      "creating build/bdist.linux-x86_64/egg\n",
      "creating build/bdist.linux-x86_64/egg/mish_cuda\n",
      "copying build/lib.linux-x86_64-3.6/mish_cuda/__init__.py -> build/bdist.linux-x86_64/egg/mish_cuda\n",
      "copying build/lib.linux-x86_64-3.6/mish_cuda/_C.cpython-36m-x86_64-linux-gnu.so -> build/bdist.linux-x86_64/egg/mish_cuda\n",
      "byte-compiling build/bdist.linux-x86_64/egg/mish_cuda/__init__.py to __init__.cpython-36.pyc\n",
      "creating stub loader for mish_cuda/_C.cpython-36m-x86_64-linux-gnu.so\n",
      "byte-compiling build/bdist.linux-x86_64/egg/mish_cuda/_C.py to _C.cpython-36.pyc\n",
      "creating build/bdist.linux-x86_64/egg/EGG-INFO\n",
      "copying src/mish_cuda.egg-info/PKG-INFO -> build/bdist.linux-x86_64/egg/EGG-INFO\n",
      "copying src/mish_cuda.egg-info/SOURCES.txt -> build/bdist.linux-x86_64/egg/EGG-INFO\n",
      "copying src/mish_cuda.egg-info/dependency_links.txt -> build/bdist.linux-x86_64/egg/EGG-INFO\n",
      "copying src/mish_cuda.egg-info/not-zip-safe -> build/bdist.linux-x86_64/egg/EGG-INFO\n",
      "copying src/mish_cuda.egg-info/requires.txt -> build/bdist.linux-x86_64/egg/EGG-INFO\n",
      "copying src/mish_cuda.egg-info/top_level.txt -> build/bdist.linux-x86_64/egg/EGG-INFO\n",
      "writing build/bdist.linux-x86_64/egg/EGG-INFO/native_libs.txt\n",
      "creating 'dist/mish_cuda-0.0.3-py3.6-linux-x86_64.egg' and adding 'build/bdist.linux-x86_64/egg' to it\n",
      "removing 'build/bdist.linux-x86_64/egg' (and everything under it)\n",
      "Processing mish_cuda-0.0.3-py3.6-linux-x86_64.egg\n",
      "removing '/usr/local/lib/python3.6/dist-packages/mish_cuda-0.0.3-py3.6-linux-x86_64.egg' (and everything under it)\n",
      "creating /usr/local/lib/python3.6/dist-packages/mish_cuda-0.0.3-py3.6-linux-x86_64.egg\n",
      "Extracting mish_cuda-0.0.3-py3.6-linux-x86_64.egg to /usr/local/lib/python3.6/dist-packages\n",
      "mish-cuda 0.0.3 is already the active version in easy-install.pth\n",
      "\n",
      "Installed /usr/local/lib/python3.6/dist-packages/mish_cuda-0.0.3-py3.6-linux-x86_64.egg\n",
      "Processing dependencies for mish-cuda==0.0.3\n",
      "Searching for torch==1.7.1+cu101\n",
      "Best match: torch 1.7.1+cu101\n",
      "Adding torch 1.7.1+cu101 to easy-install.pth file\n",
      "Installing convert-caffe2-to-onnx script to /usr/local/bin\n",
      "Installing convert-onnx-to-caffe2 script to /usr/local/bin\n",
      "\n",
      "Using /usr/local/lib/python3.6/dist-packages\n",
      "Searching for dataclasses==0.8\n",
      "Best match: dataclasses 0.8\n",
      "Adding dataclasses 0.8 to easy-install.pth file\n",
      "\n",
      "Using /usr/local/lib/python3.6/dist-packages\n",
      "Searching for numpy==1.16.4\n",
      "Best match: numpy 1.16.4\n",
      "Adding numpy 1.16.4 to easy-install.pth file\n",
      "Installing f2py script to /usr/local/bin\n",
      "Installing f2py3 script to /usr/local/bin\n",
      "Installing f2py3.6 script to /usr/local/bin\n",
      "\n",
      "Using /usr/local/lib/python3.6/dist-packages\n",
      "Searching for typing-extensions==3.7.4.3\n",
      "Best match: typing-extensions 3.7.4.3\n",
      "Adding typing-extensions 3.7.4.3 to easy-install.pth file\n",
      "\n",
      "Using /usr/local/lib/python3.6/dist-packages\n",
      "Finished processing dependencies for mish-cuda==0.0.3\n"
     ]
    }
   ],
   "source": [
    "%cd mish-cuda\n",
    "!python setup.py build install"
   ]
  },
  {
   "cell_type": "code",
   "execution_count": null,
   "metadata": {},
   "outputs": [],
   "source": []
  }
 ],
 "metadata": {
  "kernelspec": {
   "display_name": "Python 3",
   "language": "python",
   "name": "python3"
  },
  "language_info": {
   "codemirror_mode": {
    "name": "ipython",
    "version": 3
   },
   "file_extension": ".py",
   "mimetype": "text/x-python",
   "name": "python",
   "nbconvert_exporter": "python",
   "pygments_lexer": "ipython3",
   "version": "3.6.9"
  }
 },
 "nbformat": 4,
 "nbformat_minor": 4
}
