{
 "cells": [
  {
   "cell_type": "code",
   "execution_count": null,
   "metadata": {},
   "outputs": [],
   "source": [
    "%cd Scaled-Yolov4\n",
    "# !python detect.py --weights ./runs/exp15_yolov4-csp-results/weights/best_yolov4-csp-results.pt --img 1024 --conf 0.1 --source ../test/images\n",
    "# !python detect.py --weights ./runs/exp21_yolov4-csp-results/weights/best.pt --img 1024 --conf 0.1 --source ../test/images\n",
    "!cp ./runs/exp31_yolov4-csp-results/weights/last.pt ./runs/exp31_yolov4-csp-results/weights/last2.pt \n",
    "!python detect.py --weights ./runs/exp31_yolov4-csp-results/weights/last-Copy1.pt --img 1920 --conf 0.1 --source ../test/images"
   ]
  }
 ],
 "metadata": {
  "kernelspec": {
   "display_name": "Python 3",
   "language": "python",
   "name": "python3"
  },
  "language_info": {
   "codemirror_mode": {
    "name": "ipython",
    "version": 3
   },
   "file_extension": ".py",
   "mimetype": "text/x-python",
   "name": "python",
   "nbconvert_exporter": "python",
   "pygments_lexer": "ipython3",
   "version": "3.6.9"
  }
 },
 "nbformat": 4,
 "nbformat_minor": 4
}
