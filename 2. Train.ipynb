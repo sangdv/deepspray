{
 "cells": [
  {
   "cell_type": "markdown",
   "metadata": {},
   "source": [
    "# Train Scaled-YoloV4 with DeepSpray data\n",
    "### Checkpoint will be placed in Scaled-Yolov4/runs folder"
   ]
  },
  {
   "cell_type": "code",
   "execution_count": 2,
   "metadata": {},
   "outputs": [
    {
     "name": "stdout",
     "output_type": "stream",
     "text": [
      "[Errno 2] No such file or directory: 'Scaled-Yolov4'\n",
      "/root/AFS/deepspray/Scaled-Yolov4\n",
      "Using CUDA device0 _CudaDeviceProperties(name='Tesla V100-SXM2-32GB', total_memory=32480MB)\n",
      "           device1 _CudaDeviceProperties(name='Tesla V100-SXM2-32GB', total_memory=32480MB)\n",
      "\n",
      "Namespace(adam=False, batch_size=8, bucket='', cache_images=True, cfg='./models/yolov4-csp.yaml', data='../data.yaml', device='', epochs=5000, evolve=False, global_rank=-1, hyp='data/hyp.scratch.yaml', img_size=[1024, 1024], local_rank=-1, logdir='runs/', multi_scale=False, name='yolov4-csp-results', noautoanchor=False, nosave=False, notest=False, rect=False, resume=False, single_cls=False, sync_bn=False, total_batch_size=8, weights='', world_size=1)\n",
      "Start Tensorboard with \"tensorboard --logdir runs/\", view at http://localhost:6006/\n",
      "2021-03-24 03:15:59.261111: W tensorflow/stream_executor/platform/default/dso_loader.cc:60] Could not load dynamic library 'libcudart.so.11.0'; dlerror: libcudart.so.11.0: cannot open shared object file: No such file or directory; LD_LIBRARY_PATH: /usr/local/nvidia/lib:/usr/local/nvidia/lib64:/usr/local/cuda/lib64:/usr/local/cuda/targets/x86_64-linux/lib/stubs:/usr/lib/jvm/java-8-openjdk-amd64/jre/lib/amd64/server\n",
      "2021-03-24 03:15:59.261159: I tensorflow/stream_executor/cuda/cudart_stub.cc:29] Ignore above cudart dlerror if you do not have a GPU set up on your machine.\n",
      "Hyperparameters {'lr0': 0.01, 'momentum': 0.937, 'weight_decay': 0.0005, 'giou': 0.05, 'cls': 0.5, 'cls_pw': 1.0, 'obj': 1.0, 'obj_pw': 1.0, 'iou_t': 0.2, 'anchor_t': 4.0, 'fl_gamma': 0.0, 'hsv_h': 0.015, 'hsv_s': 0.7, 'hsv_v': 0.4, 'degrees': 0.0, 'translate': 0.5, 'scale': 0.5, 'shear': 0.0, 'perspective': 0.0, 'flipud': 0.0, 'fliplr': 0.5, 'mixup': 0.0}\n",
      "Overriding ./models/yolov4-csp.yaml nc=80 with nc=5\n",
      "\n",
      "                 from  n    params  module                                  arguments                     \n",
      "  0                -1  1       928  models.common.Conv                      [3, 32, 3, 1]                 \n",
      "  1                -1  1     18560  models.common.Conv                      [32, 64, 3, 2]                \n",
      "  2                -1  1     20672  models.common.Bottleneck                [64, 64]                      \n",
      "  3                -1  1     73984  models.common.Conv                      [64, 128, 3, 2]               \n",
      "  4                -1  1    119936  models.common.BottleneckCSP             [128, 128, 2]                 \n",
      "  5                -1  1    295424  models.common.Conv                      [128, 256, 3, 2]              \n",
      "  6                -1  1   1463552  models.common.BottleneckCSP             [256, 256, 8]                 \n",
      "  7                -1  1   1180672  models.common.Conv                      [256, 512, 3, 2]              \n",
      "  8                -1  1   5843456  models.common.BottleneckCSP             [512, 512, 8]                 \n",
      "  9                -1  1   4720640  models.common.Conv                      [512, 1024, 3, 2]             \n",
      " 10                -1  1  12858368  models.common.BottleneckCSP             [1024, 1024, 4]               \n",
      " 11                -1  1   7610368  models.common.SPPCSP                    [1024, 512, 1]                \n",
      " 12                -1  1    131584  models.common.Conv                      [512, 256, 1, 1]              \n",
      " 13                -1  1         0  torch.nn.modules.upsampling.Upsample    [None, 2, 'nearest']          \n",
      " 14                 8  1    131584  models.common.Conv                      [512, 256, 1, 1]              \n",
      " 15          [-1, -2]  1         0  models.common.Concat                    [1]                           \n",
      " 16                -1  1   1642496  models.common.BottleneckCSP2            [512, 256, 2]                 \n",
      " 17                -1  1     33024  models.common.Conv                      [256, 128, 1, 1]              \n",
      " 18                -1  1         0  torch.nn.modules.upsampling.Upsample    [None, 2, 'nearest']          \n",
      " 19                 6  1     33024  models.common.Conv                      [256, 128, 1, 1]              \n",
      " 20          [-1, -2]  1         0  models.common.Concat                    [1]                           \n",
      " 21                -1  1    411648  models.common.BottleneckCSP2            [256, 128, 2]                 \n",
      " 22                -1  1    295424  models.common.Conv                      [128, 256, 3, 1]              \n",
      " 23                -2  1    295424  models.common.Conv                      [128, 256, 3, 2]              \n",
      " 24          [-1, 16]  1         0  models.common.Concat                    [1]                           \n",
      " 25                -1  1   1642496  models.common.BottleneckCSP2            [512, 256, 2]                 \n",
      " 26                -1  1   1180672  models.common.Conv                      [256, 512, 3, 1]              \n",
      " 27                -2  1   1180672  models.common.Conv                      [256, 512, 3, 2]              \n",
      " 28          [-1, 11]  1         0  models.common.Concat                    [1]                           \n",
      " 29                -1  1   6561792  models.common.BottleneckCSP2            [1024, 512, 2]                \n",
      " 30                -1  1   4720640  models.common.Conv                      [512, 1024, 3, 1]             \n",
      " 31      [22, 26, 30]  1     53850  models.yolo.Detect                      [5, [[12, 16, 19, 36, 40, 28], [36, 75, 76, 55, 72, 146], [142, 110, 192, 243, 459, 401]], [256, 512, 1024]]\n",
      "Model Summary: 334 layers, 5.25209e+07 parameters, 5.25209e+07 gradients\n",
      "\n",
      "Optimizer groups: 111 .bias, 115 conv.weight, 108 other\n",
      "Scanning images: 100%|██████████████████████| 300/300 [00:00<00:00, 1579.81it/s]\n",
      "Scanning labels ../train/labels.cache (300 found, 0 missing, 0 empty, 0 duplicat\n",
      "Caching images (0.6GB): 100%|█████████████████| 300/300 [00:04<00:00, 62.43it/s]\n",
      "Scanning images: 100%|████████████████████████| 60/60 [00:00<00:00, 3683.20it/s]\n",
      "Scanning labels ../valid/labels.cache (3 found, 0 missing, 57 empty, 0 duplicate\n",
      "Caching images (0.1GB): 100%|███████████████████| 60/60 [00:01<00:00, 39.55it/s]\n",
      "\n",
      "Analyzing anchors... anchors/target = 2.00, Best Possible Recall (BPR) = 0.9833\n",
      "Image sizes 1024 train, 1024 test\n",
      "Using 8 dataloader workers\n",
      "Starting training for 5000 epochs...\n",
      "\n",
      "     Epoch   gpu_mem      GIoU       obj       cls     total   targets  img_size\n",
      "    0/4999     7.13G     0.129    0.1629   0.04954    0.3414      1481      1024\n",
      "               Class      Images     Targets           P           R      mAP@.5\n",
      "                 all          60           0           0           0           0           0\n",
      "\n",
      "     Epoch   gpu_mem      GIoU       obj       cls     total   targets  img_size\n",
      "    1/4999     7.52G    0.1217    0.1506   0.04252    0.3148      2234      1024\n",
      "               Class      Images     Targets           P           R      mAP@.5\n",
      "                 all          60           0           0           0           0           0\n",
      "\n",
      "     Epoch   gpu_mem      GIoU       obj       cls     total   targets  img_size\n",
      "    2/4999     7.52G    0.1162    0.1474   0.03884    0.3024      3272      1024^C\n",
      "    2/4999     7.52G    0.1162    0.1474   0.03884    0.3024      3272      1024\n",
      "Traceback (most recent call last):\n",
      "  File \"train.py\", line 444, in <module>\n",
      "    train(hyp, opt, device, tb_writer)\n",
      "  File \"train.py\", line 261, in train\n",
      "    loss, loss_items = compute_loss(pred, targets.to(device), model)  # scaled by batch_size\n",
      "  File \"/root/AFS/deepspray/Scaled-Yolov4/utils/general.py\", line 483, in compute_loss\n",
      "    tobj[b, a, gj, gi] = (1.0 - model.gr) + model.gr * giou.detach().clamp(0).type(tobj.dtype)  # giou ratio\n",
      "KeyboardInterrupt\n"
     ]
    }
   ],
   "source": [
    "%cd Scaled-Yolov4\n",
    "!python train.py --img 1024 --batch 8 --epochs 5000 --data '../data.yaml' --cfg ./models/yolov4-csp.yaml --weights '' --name yolov4-csp-results --cache"
   ]
  },
  {
   "cell_type": "code",
   "execution_count": null,
   "metadata": {},
   "outputs": [],
   "source": []
  }
 ],
 "metadata": {
  "kernelspec": {
   "display_name": "Python 3",
   "language": "python",
   "name": "python3"
  },
  "language_info": {
   "codemirror_mode": {
    "name": "ipython",
    "version": 3
   },
   "file_extension": ".py",
   "mimetype": "text/x-python",
   "name": "python",
   "nbconvert_exporter": "python",
   "pygments_lexer": "ipython3",
   "version": "3.8.8"
  }
 },
 "nbformat": 4,
 "nbformat_minor": 4
}
